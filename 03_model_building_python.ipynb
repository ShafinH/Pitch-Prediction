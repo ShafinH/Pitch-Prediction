{
 "cells": [
  {
   "cell_type": "code",
   "execution_count": 4,
   "metadata": {},
   "outputs": [],
   "source": [
    "import pandas as pd\n",
    "from sklearn.datasets import make_blobs\n",
    "from sklearn.model_selection import train_test_split\n",
    "import numpy as np\n",
    "import matplotlib.pyplot as plt"
   ]
  },
  {
   "cell_type": "code",
   "execution_count": 6,
   "metadata": {},
   "outputs": [],
   "source": [
    "df_final = pd.read_csv(\"/Users/shafin/Desktop/Pitch/data-for-models/df_final.csv\")"
   ]
  },
  {
   "cell_type": "code",
   "execution_count": 7,
   "metadata": {},
   "outputs": [
    {
     "output_type": "execute_result",
     "data": {
      "text/plain": "        g_id       ab_id  s_count  b_count  pitch_num  on_1b  on_2b  on_3b  \\\n0  201500001  2015000001        0        0          1      0      0      0   \n1  201500001  2015000001        1        0          2      0      0      0   \n2  201500001  2015000001        2        0          3      0      0      0   \n3  201500001  2015000001        2        0          4      0      0      0   \n4  201500001  2015000001        2        1          5      0      0      0   \n\n   pitcher_id stand p_throws  fastball last_ff_not  \n0      452657     L        L         1         NaN  \n1      452657     L        L         1          FF  \n2      452657     L        L         1          FF  \n3      452657     L        L         1          FF  \n4      452657     L        L         0          FF  ",
      "text/html": "<div>\n<style scoped>\n    .dataframe tbody tr th:only-of-type {\n        vertical-align: middle;\n    }\n\n    .dataframe tbody tr th {\n        vertical-align: top;\n    }\n\n    .dataframe thead th {\n        text-align: right;\n    }\n</style>\n<table border=\"1\" class=\"dataframe\">\n  <thead>\n    <tr style=\"text-align: right;\">\n      <th></th>\n      <th>g_id</th>\n      <th>ab_id</th>\n      <th>s_count</th>\n      <th>b_count</th>\n      <th>pitch_num</th>\n      <th>on_1b</th>\n      <th>on_2b</th>\n      <th>on_3b</th>\n      <th>pitcher_id</th>\n      <th>stand</th>\n      <th>p_throws</th>\n      <th>fastball</th>\n      <th>last_ff_not</th>\n    </tr>\n  </thead>\n  <tbody>\n    <tr>\n      <th>0</th>\n      <td>201500001</td>\n      <td>2015000001</td>\n      <td>0</td>\n      <td>0</td>\n      <td>1</td>\n      <td>0</td>\n      <td>0</td>\n      <td>0</td>\n      <td>452657</td>\n      <td>L</td>\n      <td>L</td>\n      <td>1</td>\n      <td>NaN</td>\n    </tr>\n    <tr>\n      <th>1</th>\n      <td>201500001</td>\n      <td>2015000001</td>\n      <td>1</td>\n      <td>0</td>\n      <td>2</td>\n      <td>0</td>\n      <td>0</td>\n      <td>0</td>\n      <td>452657</td>\n      <td>L</td>\n      <td>L</td>\n      <td>1</td>\n      <td>FF</td>\n    </tr>\n    <tr>\n      <th>2</th>\n      <td>201500001</td>\n      <td>2015000001</td>\n      <td>2</td>\n      <td>0</td>\n      <td>3</td>\n      <td>0</td>\n      <td>0</td>\n      <td>0</td>\n      <td>452657</td>\n      <td>L</td>\n      <td>L</td>\n      <td>1</td>\n      <td>FF</td>\n    </tr>\n    <tr>\n      <th>3</th>\n      <td>201500001</td>\n      <td>2015000001</td>\n      <td>2</td>\n      <td>0</td>\n      <td>4</td>\n      <td>0</td>\n      <td>0</td>\n      <td>0</td>\n      <td>452657</td>\n      <td>L</td>\n      <td>L</td>\n      <td>1</td>\n      <td>FF</td>\n    </tr>\n    <tr>\n      <th>4</th>\n      <td>201500001</td>\n      <td>2015000001</td>\n      <td>2</td>\n      <td>1</td>\n      <td>5</td>\n      <td>0</td>\n      <td>0</td>\n      <td>0</td>\n      <td>452657</td>\n      <td>L</td>\n      <td>L</td>\n      <td>0</td>\n      <td>FF</td>\n    </tr>\n  </tbody>\n</table>\n</div>"
     },
     "metadata": {},
     "execution_count": 7
    }
   ],
   "source": [
    "df_final.head()"
   ]
  },
  {
   "cell_type": "code",
   "execution_count": null,
   "metadata": {},
   "outputs": [],
   "source": []
  }
 ],
 "metadata": {
  "language_info": {
   "codemirror_mode": {
    "name": "ipython",
    "version": 3
   },
   "file_extension": ".py",
   "mimetype": "text/x-python",
   "name": "python",
   "nbconvert_exporter": "python",
   "pygments_lexer": "ipython3",
   "version": "3.8.5-final"
  },
  "orig_nbformat": 2,
  "kernelspec": {
   "name": "python38564bit57e57db792c946c6b89f0a397eb6ce24",
   "display_name": "Python 3.8.5 64-bit"
  }
 },
 "nbformat": 4,
 "nbformat_minor": 2
}
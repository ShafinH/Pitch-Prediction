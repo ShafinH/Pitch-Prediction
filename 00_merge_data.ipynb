{
 "cells": [
  {
   "cell_type": "code",
   "execution_count": null,
   "metadata": {},
   "outputs": [],
   "source": [
    "import pandas as pd"
   ]
  },
  {
   "cell_type": "code",
   "execution_count": null,
   "metadata": {},
   "outputs": [],
   "source": [
    "atbats = pd.read_csv(\"data-raw/atbats.csv\",\n",
    "                     keep_default_na=False, na_values=[\"\"])\n",
    "\n",
    "pitches = pd.read_csv(\"data-raw/pitches.csv\",\n",
    "                      keep_default_na=False, na_values=[\"\"])\n",
    "\n",
    "player_names = pd.read_csv(\"data-raw/player_names.csv\",\n",
    "                           keep_default_na=False, na_values=[\"\"])"
   ]
  },
  {
   "cell_type": "code",
   "execution_count": null,
   "metadata": {},
   "outputs": [],
   "source": [
    "merged_data = pitches.merge(atbats, how = 'left', left_on = 'ab_id', right_on = 'ab_id') # merging the atbats and pitches files"
   ]
  },
  {
   "cell_type": "code",
   "execution_count": null,
   "metadata": {},
   "outputs": [],
   "source": [
    "merged_data.to_csv('/Users/shafin/Desktop/Pitch/data-clean/pitches_with_at_bats.csv') # creating csv file with the dataframe"
   ]
  }
 ],
 "metadata": {
  "language_info": {
   "codemirror_mode": {
    "name": "ipython",
    "version": 3
   },
   "file_extension": ".py",
   "mimetype": "text/x-python",
   "name": "python",
   "nbconvert_exporter": "python",
   "pygments_lexer": "ipython3",
   "version": 3
  },
  "orig_nbformat": 2
 },
 "nbformat": 4,
 "nbformat_minor": 2
}